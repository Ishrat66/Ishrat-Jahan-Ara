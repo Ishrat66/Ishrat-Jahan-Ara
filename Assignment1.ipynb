{
  "nbformat": 4,
  "nbformat_minor": 0,
  "metadata": {
    "colab": {
      "provenance": [],
      "authorship_tag": "ABX9TyP/QnmgMcmpfbC4rf/gQ0aY",
      "include_colab_link": true
    },
    "kernelspec": {
      "name": "python3",
      "display_name": "Python 3"
    },
    "language_info": {
      "name": "python"
    }
  },
  "cells": [
    {
      "cell_type": "markdown",
      "metadata": {
        "id": "view-in-github",
        "colab_type": "text"
      },
      "source": [
        "<a href=\"https://colab.research.google.com/github/Ishrat66/Ishrat-Jahan-Ara/blob/main/Assignment1.ipynb\" target=\"_parent\"><img src=\"https://colab.research.google.com/assets/colab-badge.svg\" alt=\"Open In Colab\"/></a>"
      ]
    },
    {
      "cell_type": "code",
      "execution_count": 1,
      "metadata": {
        "id": "TIO4Vhd5Bnoy",
        "colab": {
          "base_uri": "https://localhost:8080/"
        },
        "outputId": "560d2f98-f2f5-4d66-92f1-4d39ce8acb77"
      },
      "outputs": [
        {
          "output_type": "stream",
          "name": "stdout",
          "text": [
            "Enter n:2\n",
            "2 is even number\n"
          ]
        }
      ],
      "source": [
        "n=int(input(\"Enter n:\"))\n",
        "if(n%2==0):\n",
        "   print(n,\"is even number\")\n",
        "else:\n",
        "   print(n,\"is odd number\")"
      ]
    }
  ]
}