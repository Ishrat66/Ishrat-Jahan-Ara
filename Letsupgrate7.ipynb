{
  "nbformat": 4,
  "nbformat_minor": 0,
  "metadata": {
    "colab": {
      "provenance": [],
      "authorship_tag": "ABX9TyM/K6pmKkYz61cVF2I+dcFI",
      "include_colab_link": true
    },
    "kernelspec": {
      "name": "python3",
      "display_name": "Python 3"
    },
    "language_info": {
      "name": "python"
    }
  },
  "cells": [
    {
      "cell_type": "markdown",
      "metadata": {
        "id": "view-in-github",
        "colab_type": "text"
      },
      "source": [
        "<a href=\"https://colab.research.google.com/github/Ishrat66/Ishrat-Jahan-Ara/blob/main/Letsupgrate7.ipynb\" target=\"_parent\"><img src=\"https://colab.research.google.com/assets/colab-badge.svg\" alt=\"Open In Colab\"/></a>"
      ]
    },
    {
      "cell_type": "code",
      "source": [
        "#we can test any number its a prime or not just putting the value is 'a'\n",
        "a=7\n",
        "#we need to check if it is greater than 1 , because if is not it is then automatically not a prime number.\n",
        "if a>1:\n",
        "  for i in range(2,a): #straing from 2 to the number'a', we are checking in loop if it is divisable by numbers 2 to the immedaite previous number\n",
        "   if(a%i)==0:\n",
        "    print('a is NOT a prime number')\n",
        "    break\n",
        "  else:\n",
        "    print('a is a prime number')\n",
        "else:\n",
        "  print('a is a NOT prime number')"
      ],
      "metadata": {
        "colab": {
          "base_uri": "https://localhost:8080/"
        },
        "id": "zFLijCxDsc4v",
        "outputId": "3ff59293-ca58-46b1-de2f-c8029faab794"
      },
      "execution_count": 14,
      "outputs": [
        {
          "output_type": "stream",
          "name": "stdout",
          "text": [
            "a is a prime number\n"
          ]
        }
      ]
    }
  ]
}