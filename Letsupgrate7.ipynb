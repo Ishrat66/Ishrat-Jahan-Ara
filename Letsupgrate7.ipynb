{
  "nbformat": 4,
  "nbformat_minor": 0,
  "metadata": {
    "colab": {
      "provenance": [],
      "authorship_tag": "ABX9TyNVFe8X6CDYUaizeW45RWOP",
      "include_colab_link": true
    },
    "kernelspec": {
      "name": "python3",
      "display_name": "Python 3"
    },
    "language_info": {
      "name": "python"
    }
  },
  "cells": [
    {
      "cell_type": "markdown",
      "metadata": {
        "id": "view-in-github",
        "colab_type": "text"
      },
      "source": [
        "<a href=\"https://colab.research.google.com/github/Ishrat66/Ishrat-Jahan-Ara/blob/main/Letsupgrate7.ipynb\" target=\"_parent\"><img src=\"https://colab.research.google.com/assets/colab-badge.svg\" alt=\"Open In Colab\"/></a>"
      ]
    },
    {
      "cell_type": "code",
      "source": [
        "def emptyList_XO():\n",
        "  tmp_lst = []\n",
        "  for i in range(9):\n",
        "    tmp_lst.append(' ')\n",
        "  return tmp_lst  "
      ],
      "metadata": {
        "id": "v4U5zc2kb1SW"
      },
      "execution_count": null,
      "outputs": []
    },
    {
      "cell_type": "code",
      "source": [
        "XOlist = emptyList_XO()"
      ],
      "metadata": {
        "colab": {
          "base_uri": "https://localhost:8080/",
          "height": 165
        },
        "id": "Kjt54tHnb3Ey",
        "outputId": "ed819b43-af06-4ec9-8ece-f76fa2995ab9"
      },
      "execution_count": 7,
      "outputs": [
        {
          "output_type": "error",
          "ename": "NameError",
          "evalue": "ignored",
          "traceback": [
            "\u001b[0;31m---------------------------------------------------------------------------\u001b[0m",
            "\u001b[0;31mNameError\u001b[0m                                 Traceback (most recent call last)",
            "\u001b[0;32m<ipython-input-7-6b6713501574>\u001b[0m in \u001b[0;36m<module>\u001b[0;34m\u001b[0m\n\u001b[0;32m----> 1\u001b[0;31m \u001b[0mXOlist\u001b[0m \u001b[0;34m=\u001b[0m \u001b[0memptyList_XO\u001b[0m\u001b[0;34m(\u001b[0m\u001b[0;34m)\u001b[0m\u001b[0;34m\u001b[0m\u001b[0;34m\u001b[0m\u001b[0m\n\u001b[0m",
            "\u001b[0;31mNameError\u001b[0m: name 'emptyList_XO' is not defined"
          ]
        }
      ]
    },
    {
      "cell_type": "code",
      "source": [
        "def printBoard(xoList):\n",
        "  print(xoList[0], \"|\",xoList[1], \"|\", xoList[2])\n",
        "  print(\"----------\")\n",
        "  print(xoList[3], \"|\",xoList[4], \"|\", xoList[5])\n",
        "  print(\"----------\")\n",
        "  print(xoList[6], \"|\",xoList[7], \"|\", xoList[8])"
      ],
      "metadata": {
        "id": "31lcBcVub9AM"
      },
      "execution_count": 8,
      "outputs": []
    },
    {
      "cell_type": "code",
      "source": [
        "import random \n",
        "def whoWillGoFirst():\n",
        "  player = random.randint(0,1)\n",
        "  if player == 0:\n",
        "    print('player A | O will go first')\n",
        "  else:\n",
        "    print('player B | X will go first')\n",
        "  return player "
      ],
      "metadata": {
        "id": "IJP9U854cWgS"
      },
      "execution_count": 5,
      "outputs": []
    },
    {
      "cell_type": "code",
      "source": [
        "XO_list = emptyList_XO()\n",
        "printBoard(XO_list)\n",
        "play = whoWillGoFirst()\n",
        "ScoreA = 0 \n",
        "ScoreB = 0 \n",
        "\n",
        "gameStatus = 0\n",
        "chance = 0 \n",
        "\n",
        "while gameStatus == 0:\n",
        "  if play == 0:\n",
        "    XO_list = takeInput(0,XO_list)\n",
        "    printBoard(XO_list)\n",
        "    winStat = checkWin(XO_list)\n",
        "    play = 1\n",
        "  else:\n",
        "    XO_list = takeInput(1,XO_list)\n",
        "    printBoard(XO_list)\n",
        "    winStat = checkWin(XO_list)\n",
        "    play = 0\n",
        "  \n",
        "  if winStat == 0 or winStat == 1 or winStat == 2:\n",
        "    gameStatus = 1\n",
        "    print('win - ', winStat)\n",
        "  else:\n",
        "    gamestatus = 0 \n"
      ],
      "metadata": {
        "id": "hevUfuv4csli"
      },
      "execution_count": null,
      "outputs": []
    }
  ]
}